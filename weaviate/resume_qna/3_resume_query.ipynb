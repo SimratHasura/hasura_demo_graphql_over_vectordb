{
 "cells": [
  {
   "cell_type": "code",
   "execution_count": 1,
   "metadata": {},
   "outputs": [
    {
     "data": {
      "text/plain": [
       "True"
      ]
     },
     "execution_count": 1,
     "metadata": {},
     "output_type": "execute_result"
    }
   ],
   "source": [
    "import os\n",
    "import weaviate\n",
    "from dotenv import load_dotenv\n",
    "\n",
    "load_dotenv()"
   ]
  },
  {
   "cell_type": "code",
   "execution_count": 8,
   "metadata": {},
   "outputs": [],
   "source": [
    "client = weaviate.Client(\n",
    "    url=os.environ[\"WEAVIATE_URL\"],\n",
    "    auth_client_secret=weaviate.AuthApiKey(api_key=os.environ['WEAVIATE_APIKEY']),\n",
    "    additional_headers={\n",
    "        \"X-OpenAI-Api-Key\": os.environ['OPENAI_APIKEY']\n",
    "    }\n",
    "    )"
   ]
  },
  {
   "cell_type": "code",
   "execution_count": null,
   "metadata": {},
   "outputs": [],
   "source": [
    "# Test connection\n",
    "print(client.is_live())\n",
    "print(client.is_ready())"
   ]
  },
  {
   "attachments": {},
   "cell_type": "markdown",
   "metadata": {},
   "source": [
    "#### Set you Hasura Console"
   ]
  },
  {
   "attachments": {},
   "cell_type": "markdown",
   "metadata": {},
   "source": [
    "Execute the following steps on your Hasura console\n",
    "\n",
    "1. Go to postgres table and track candidate and application\n",
    "2. Add Weaviate Agent by  clicking `Manage` on Data tab under Database panel on left\n",
    "    - Click `Data connector Agents` \n",
    "    - Click `Add Agent`\n",
    "    - Name => weaviate\n",
    "    - URL => weaviate-gdc:8100\n",
    "3. Connect Weaviate db \n",
    "    - Click `Connect Database`\n",
    "    - Select weaviate from db selection\n",
    "    - Connect Existing Database\n",
    "    - Type Database name\n",
    "    - Pick apiKey and host from weaviate cluster details\n",
    "    \n"
   ]
  },
  {
   "attachments": {},
   "cell_type": "markdown",
   "metadata": {},
   "source": [
    "1. Set relationship\n",
    "    - From weaviate table -> Relationship\n",
    "    - Give name `application_relationship`\n",
    "    - From resume (application_id) to application (id)\n",
    "2. Set permission\n",
    "    - Go to Resume\n",
    "    - Create new role \"manager\" and update permissions for \"select\"\n",
    "        - {\n",
    "            \"application_relationship\": {\n",
    "                \"hiring_manager\": {\n",
    "                \"_eq\": \"x-hasura-manager-id\"\n",
    "                }\n",
    "            }\n",
    "            }\n",
    "    - Select permission for columns (Toggle all)\n",
    "3. Fetch by permission\n",
    "    - Go to API\n",
    "    - "
   ]
  },
  {
   "cell_type": "code",
   "execution_count": 3,
   "metadata": {},
   "outputs": [
    {
     "name": "stdout",
     "output_type": "stream",
     "text": [
      "Collecting gql\n",
      "  Using cached gql-3.4.1-py2.py3-none-any.whl (65 kB)\n",
      "Collecting graphql-core<3.3,>=3.2 (from gql)\n",
      "  Downloading graphql_core-3.2.3-py3-none-any.whl (202 kB)\n",
      "\u001b[2K     \u001b[90m━━━━━━━━━━━━━━━━━━━━━━━━━━━━━━━━━━━━━━━\u001b[0m \u001b[32m202.9/202.9 kB\u001b[0m \u001b[31m3.3 MB/s\u001b[0m eta \u001b[36m0:00:00\u001b[0ma \u001b[36m0:00:01\u001b[0m\n",
      "\u001b[?25hRequirement already satisfied: yarl<2.0,>=1.6 in /Users/simrat/Documents/work/Learnings/.venv/lib/python3.11/site-packages (from gql) (1.9.2)\n",
      "Requirement already satisfied: backoff<3.0,>=1.11.1 in /Users/simrat/Documents/work/Learnings/.venv/lib/python3.11/site-packages (from gql) (2.2.1)\n",
      "Requirement already satisfied: multidict>=4.0 in /Users/simrat/Documents/work/Learnings/.venv/lib/python3.11/site-packages (from yarl<2.0,>=1.6->gql) (6.0.4)\n",
      "Requirement already satisfied: idna>=2.0 in /Users/simrat/Documents/work/Learnings/.venv/lib/python3.11/site-packages (from yarl<2.0,>=1.6->gql) (3.4)\n",
      "Installing collected packages: graphql-core, gql\n",
      "Successfully installed gql-3.4.1 graphql-core-3.2.3\n"
     ]
    }
   ],
   "source": [
    "!pip install gql"
   ]
  },
  {
   "cell_type": "code",
   "execution_count": 4,
   "metadata": {},
   "outputs": [],
   "source": [
    "from gql import gql, Client\n",
    "from gql.transport.aiohttp import AIOHTTPTransport\n",
    "\n",
    "\n",
    "transport = AIOHTTPTransport(url=\"http://localhost:8080/v1/graphql\")\n",
    "client = Client(transport=transport, fetch_schema_from_transport=True)"
   ]
  },
  {
   "cell_type": "code",
   "execution_count": 6,
   "metadata": {},
   "outputs": [
    {
     "ename": "AssertionError",
     "evalue": "Cannot run client.execute(query) if an asyncio loop is running. Use 'await client.execute_async(query)' instead.",
     "output_type": "error",
     "traceback": [
      "\u001b[0;31m---------------------------------------------------------------------------\u001b[0m",
      "\u001b[0;31mAssertionError\u001b[0m                            Traceback (most recent call last)",
      "Cell \u001b[0;32mIn[6], line 11\u001b[0m\n\u001b[1;32m      1\u001b[0m query \u001b[39m=\u001b[39m gql(\n\u001b[1;32m      2\u001b[0m \u001b[39m    \u001b[39m\u001b[39m\"\"\"\u001b[39;00m\n\u001b[1;32m      3\u001b[0m \u001b[39m    query {\u001b[39;00m\n\u001b[0;32m   (...)\u001b[0m\n\u001b[1;32m      9\u001b[0m \u001b[39m    \"\"\"\u001b[39;00m    \n\u001b[1;32m     10\u001b[0m )\n\u001b[0;32m---> 11\u001b[0m result \u001b[39m=\u001b[39m client\u001b[39m.\u001b[39;49mexecute(query)\n\u001b[1;32m     12\u001b[0m \u001b[39mprint\u001b[39m(result)\n",
      "File \u001b[0;32m~/Documents/work/Learnings/.venv/lib/python3.11/site-packages/gql/client.py:383\u001b[0m, in \u001b[0;36mClient.execute\u001b[0;34m(self, document, variable_values, operation_name, serialize_variables, parse_result, get_execution_result, **kwargs)\u001b[0m\n\u001b[1;32m    380\u001b[0m     loop \u001b[39m=\u001b[39m asyncio\u001b[39m.\u001b[39mnew_event_loop()\n\u001b[1;32m    381\u001b[0m     asyncio\u001b[39m.\u001b[39mset_event_loop(loop)\n\u001b[0;32m--> 383\u001b[0m \u001b[39massert\u001b[39;00m \u001b[39mnot\u001b[39;00m loop\u001b[39m.\u001b[39mis_running(), (\n\u001b[1;32m    384\u001b[0m     \u001b[39m\"\u001b[39m\u001b[39mCannot run client.execute(query) if an asyncio loop is running.\u001b[39m\u001b[39m\"\u001b[39m\n\u001b[1;32m    385\u001b[0m     \u001b[39m\"\u001b[39m\u001b[39m Use \u001b[39m\u001b[39m'\u001b[39m\u001b[39mawait client.execute_async(query)\u001b[39m\u001b[39m'\u001b[39m\u001b[39m instead.\u001b[39m\u001b[39m\"\u001b[39m\n\u001b[1;32m    386\u001b[0m )\n\u001b[1;32m    388\u001b[0m data \u001b[39m=\u001b[39m loop\u001b[39m.\u001b[39mrun_until_complete(\n\u001b[1;32m    389\u001b[0m     \u001b[39mself\u001b[39m\u001b[39m.\u001b[39mexecute_async(\n\u001b[1;32m    390\u001b[0m         document,\n\u001b[0;32m   (...)\u001b[0m\n\u001b[1;32m    397\u001b[0m     )\n\u001b[1;32m    398\u001b[0m )\n\u001b[1;32m    400\u001b[0m \u001b[39mreturn\u001b[39;00m data\n",
      "\u001b[0;31mAssertionError\u001b[0m: Cannot run client.execute(query) if an asyncio loop is running. Use 'await client.execute_async(query)' instead."
     ]
    }
   ],
   "source": []
  },
  {
   "attachments": {},
   "cell_type": "markdown",
   "metadata": {},
   "source": [
    "#### Usecases"
   ]
  },
  {
   "cell_type": "code",
   "execution_count": 41,
   "metadata": {},
   "outputs": [],
   "source": [
    "import os\n",
    "from pprint import pprint\n",
    "\n",
    "from langchain.llms import OpenAI\n",
    "from langchain.chains import LLMChain\n",
    "from langchain.prompts import PromptTemplate\n",
    "from langchain.chat_models import ChatOpenAI\n",
    "\n",
    "\n",
    "from dotenv import load_dotenv\n",
    "load_dotenv()\n",
    "\n",
    "llm = OpenAI(model=\"text-davinci-003\",\n",
    "             openai_api_key=os.environ['OPENAI_APIKEY'])\n",
    "\n",
    "chatllm = ChatOpenAI(model=\"gpt-3.5-turbo\",\n",
    "                     openai_api_key=os.environ['OPENAI_APIKEY'])"
   ]
  },
  {
   "attachments": {},
   "cell_type": "markdown",
   "metadata": {},
   "source": [
    "#### Usecase 1 - Question resume"
   ]
  },
  {
   "cell_type": "code",
   "execution_count": 9,
   "metadata": {},
   "outputs": [
    {
     "name": "stdout",
     "output_type": "stream",
     "text": [
      "{'data': {'Get': {'Resume': [{'application_id': 378, 'content': \"         TEACHER       Summary     Dedicated teaching and counseling educator with 17 of experience.  I have successfully taught English to students, both children and adults, \\xa0that were new to the country as well as helped and supported them as they \\xa0assimilated to the US school system and culture.\\xa0I have also successfully implemented an IB and a regular Spanish curriculum to Middle and High School students with different levels of language proficiency.  During my career, I have implemented \\xa0the Alweus Bullying Prevention Program, served in LPAC Committees and Student Assistance Programs, administered TELPAS Online Assessments and collaborated with other educators as a TELPAS trainer.\\xa0       Core Qualifications          MA Education  Counseling Certification  Counseling Internship in Elementary School and juvenile correctional facility      High School Spanish endorsement  Bilingual Endorsement\\xa0  IB curriculum training\\xa0            Professional Experience     January 1999   to   July 2014     Company Name    City  ,   State    Teacher        6th grade Spanish: Developed and implemented IB curriculum.  Fostered citizenship, open mindedness, and a safe classroom    environment so that students felt comfortable taking academic risks.  Assisted with the implementation of \\xa0the Olweus Bullying Prevention Program.  5th grade: Developed and implemented 5th grade curriculum to    students who were new to the US school system and spoke a language other than English. Served in the LPAC Committee for the District's US new comers.  Kindergarten: Developed and implemented lessons for a LEP  population of students.         January 1999   to   July 2014     Company Name    City  ,   State    Teacher        6th grade Spanish: Developed and implemented IB curriculum.  Fostered citizenship, open mindedness, and a safe classroom   \\t environment so that students felt comfortable taking academic risks.  Assisted with the implementation of \\xa0the Olweus Bullying Prevention Program.  5th grade: Developed and implemented 5th grade curriculum to    students who were new to the US school system and spoke a language other than English.  Kindergarten: Developed and implemented lessons for a LEP   population of students.         August 1997   to   August 1999     Company Name    City  ,   State    Teacher        Valley View ISD   Kindergarten: Developed and implemented lessons for a LEP  population of students in an under developed area.  Implemented modifications for autistic students.          Education and Training     2002     University of Texas pan American   City  ,   State      Guidance and Counseling              1996     University of Texas pan American   City  ,   State      Psychology   Bachelor of Arts            Certifications     2002\\t\\tTexas School Counselor (grades PK-12)\\n  2004\\t\\tSecondary Spanish (grades 6-12)\\n  1998\\t\\tBilingual/ESL- Spanish (grades PK-6)        Skills     \\xa0Counselor, academic, native Spanish speaker, Leadership, Workshops, goal setting and implementation, effectively work with parents, time management.    \"}]}}}\n"
     ]
    }
   ],
   "source": [
    "result = (\n",
    "    client.query.get(\n",
    "    \"Resume\", \n",
    "    [\n",
    "        \"application_id\", \n",
    "        \"content\"\n",
    "    ]\n",
    "    )\n",
    "    .with_limit(1)\n",
    "    .do()\n",
    ")\n",
    "print(result)"
   ]
  },
  {
   "cell_type": "code",
   "execution_count": 45,
   "metadata": {},
   "outputs": [],
   "source": [
    "resume_question_prompt_template = PromptTemplate.from_template(\n",
    "    \"\"\"\n",
    "    You are a helpful Question Answering bot. You are provided with Resume content and a question on the content.\n",
    "    Answer the question from the content.\n",
    "    If unsure, answer with \"I don't know\".\n",
    "\n",
    "    Question: {question}\n",
    "    Resume: {resume_content}\n",
    "\n",
    "    \"\"\"\n",
    ")\n",
    "\n",
    "\n",
    "chain = LLMChain(llm=llm, prompt=resume_question_prompt_template)\n"
   ]
  },
  {
   "cell_type": "code",
   "execution_count": 46,
   "metadata": {},
   "outputs": [
    {
     "name": "stdout",
     "output_type": "stream",
     "text": [
      "\n",
      "Answer: The candidate has 17 years of experience.\n"
     ]
    }
   ],
   "source": [
    "print(chain.run({\n",
    "    \"question\": \"How many years of experience does the candidate have?\",\n",
    "    \"resume_content\": result['data'][\"Get\"]['Resume'][0]['content']\n",
    "}))"
   ]
  },
  {
   "cell_type": "code",
   "execution_count": 48,
   "metadata": {},
   "outputs": [
    {
     "name": "stdout",
     "output_type": "stream",
     "text": [
      "('\\n'\n",
      " 'Answer: The candidate is a dedicated teaching and counseling educator with '\n",
      " '17 years of experience. They have successfully taught English and Spanish to '\n",
      " 'students of all ages, implemented an IB curriculum, administered TELPAS '\n",
      " 'Online Assessments, and collaborated as a TELPAS trainer. They hold a MA in '\n",
      " 'Education, Counseling Certification, and Bilingual Endorsement, and have '\n",
      " 'skills such as counseling, leadership, workshops, goal setting, and working '\n",
      " 'with parents.')\n"
     ]
    }
   ],
   "source": [
    "pprint(chain.run({\n",
    "    \"question\": \"Summarise the skills of the candidate in 2-3 lines.\",\n",
    "    \"resume_content\": result['data'][\"Get\"]['Resume'][0]['content']\n",
    "}))"
   ]
  },
  {
   "attachments": {},
   "cell_type": "markdown",
   "metadata": {},
   "source": [
    "#### Use case -2 Find most relevant "
   ]
  },
  {
   "attachments": {},
   "cell_type": "markdown",
   "metadata": {},
   "source": []
  }
 ],
 "metadata": {
  "kernelspec": {
   "display_name": ".venv",
   "language": "python",
   "name": "python3"
  },
  "language_info": {
   "codemirror_mode": {
    "name": "ipython",
    "version": 3
   },
   "file_extension": ".py",
   "mimetype": "text/x-python",
   "name": "python",
   "nbconvert_exporter": "python",
   "pygments_lexer": "ipython3",
   "version": "3.11.3"
  },
  "orig_nbformat": 4
 },
 "nbformat": 4,
 "nbformat_minor": 2
}
