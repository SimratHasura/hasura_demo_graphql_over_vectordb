{
 "cells": [
  {
   "cell_type": "code",
   "execution_count": 1,
   "metadata": {},
   "outputs": [
    {
     "data": {
      "text/plain": [
       "True"
      ]
     },
     "execution_count": 1,
     "metadata": {},
     "output_type": "execute_result"
    }
   ],
   "source": [
    "import os\n",
    "import weaviate\n",
    "from dotenv import load_dotenv\n",
    "\n",
    "load_dotenv()"
   ]
  },
  {
   "cell_type": "code",
   "execution_count": 2,
   "metadata": {},
   "outputs": [],
   "source": [
    "client = weaviate.Client(\n",
    "    url=os.environ[\"WEAVIATE_URL\"],\n",
    "    auth_client_secret=weaviate.AuthApiKey(api_key=os.environ['WEAVIATE_APIKEY']),\n",
    "    additional_headers={\n",
    "        \"X-OpenAI-Api-Key\": os.environ['OPENAI_APIKEY']\n",
    "    }\n",
    "    )"
   ]
  },
  {
   "cell_type": "code",
   "execution_count": 3,
   "metadata": {},
   "outputs": [
    {
     "name": "stdout",
     "output_type": "stream",
     "text": [
      "True\n",
      "True\n"
     ]
    }
   ],
   "source": [
    "# Test connection\n",
    "print(client.is_live())\n",
    "print(client.is_ready())"
   ]
  },
  {
   "attachments": {},
   "cell_type": "markdown",
   "metadata": {},
   "source": [
    "#### Set you Hasura Console"
   ]
  },
  {
   "attachments": {},
   "cell_type": "markdown",
   "metadata": {},
   "source": [
    "#### Usecases"
   ]
  },
  {
   "cell_type": "code",
   "execution_count": 4,
   "metadata": {},
   "outputs": [],
   "source": [
    "import os\n",
    "from pprint import pprint\n",
    "\n",
    "from langchain.llms import OpenAI\n",
    "from langchain.chains import LLMChain\n",
    "from langchain.prompts import PromptTemplate\n",
    "from langchain.chat_models import ChatOpenAI\n",
    "\n",
    "\n",
    "from dotenv import load_dotenv\n",
    "load_dotenv()\n",
    "\n",
    "llm = OpenAI(model=\"text-davinci-003\",\n",
    "             openai_api_key=os.environ['OPENAI_APIKEY'])\n",
    "\n",
    "chatllm = ChatOpenAI(model=\"gpt-3.5-turbo\",\n",
    "                     openai_api_key=os.environ['OPENAI_APIKEY'])"
   ]
  },
  {
   "attachments": {},
   "cell_type": "markdown",
   "metadata": {},
   "source": [
    "#### Usecase 1 - Question resume"
   ]
  },
  {
   "cell_type": "code",
   "execution_count": 5,
   "metadata": {},
   "outputs": [
    {
     "name": "stdout",
     "output_type": "stream",
     "text": [
      "{'data': {'Get': {'Resume': [{'application_id': '1800', 'content': \"         ENGINEERING OPERATIONS DIRECTOR           Executive Profile    Senior Software Executive Senior Software Executive who is a key contributor to strategic planning and product development. Highly skilled at creating and implementing key software improvements and process changes by uncovering major process limitations, maximizing profitability, scalability, and competition in the global marketplace. Accomplishments (over last 15 years +) Reported directly to C-level executives and Board members, successfully bridging the gap between the business and Engineering, implementing strategic plans and ensuring that the engineering teams are aligned to business goals. Agile expert and evangelist, running software development teams for over 17 years and specifically agile software development for more that 13 years. Reorganized and transitioned many teams and companies to become smooth running agile groups, drastically reducing delivery issues, making the work very transparent, empowering team members to become self-directed and accountable to their commitments. Skilled at managing entire software development process and employees including QA, Project Management, Technical Support, on and offshore teams, contractors, subsidiaries, and merger/acquisitions. Successfully on-boarded the engineers and technology from an acquired company and quickly merged their intellectual property (IP) into the main product line. Advocate for strong Engineering Best Practices, including design & code reviews, paired programming, unit tests and continuous integration testing through automation. Including, establishing leading and trailing engineering metrics, which provide strong indicators of product quality and delivery schedule. Managed globally distributed teams ranging from 15-60 people, with P&L responsibilities between $2M - $6M. Teams have been located in US, Germany, Hungary, Russia, China, and Argentina. Consistently an early adopter of critical trends in methodologies and practices, which transform and refine processes to increase the delivery of business value.       Skill Highlights        Technology ·   Java          ·   Amazon  AWS          ·   Hibernate   ·   PHP          ·   EC2          ·   Elastic  Search   ·   C++          ·   JSMVC          ·   JUnit   ·   C          ·   HTML          ·   Selenium   ·   CanJS          ·   CSS          ·   Aurora   ·   PL/SQL          ·   Bootstrap          ·   Jenkins   ·   Oracle          ·   Python          ·   Phabricator   ·   My/SQL          ·   AJAX          ·   GitHub   ·   JavaScript          ·   Camel          ·   Jira   ·   REST  and  SOAP  services     ·   MongoDB          ·   Perl              Professional Experience      Engineering Operations Director    January 2014   to   Current     Company Name   －   City  ,   State      A high growth company, whose suite of services help researchers successfully communicate their work.  Identified misalignment between technical teams and business, reorganized the technical teams and aligned technical metrics to support business KPIs, increasing revenue and cost savings.  Doubled team to 20 people in 4 months, by introducing a new improved hiring process that quickly filtered out non-qualified candidates and increased our acceptance rate to over 90%.  Awarded Culture Champion Award.          Director of Software Development    January 2012   to   January 2014     Company Name   －   City  ,   State      A non-profit organization devoted to the advancement and well-being of dogs.  Turned around a multiyear software delivery failure, by re-architecting the approach taken, changing the technology used, and transitioning the team to Agile; putting the software back on budget and on time.  Reduced technical dependency on old technologies by road mapping out a multiyear strategic technology plan, reducing number of technologies used throughout the department by 50%.  Responsible for web based PCI compliant e-commerce software, connected to an enterprise database.          Chief Operating Officer    January 2010   to   January 2012     Company Name   －   City  ,   State      Public safety software and services company focused on enterprise-class software for Fire and EMS Departments.  Implemented a SaaS solution, allowing smaller towns and cities the ability to use and integrate with the Fire and EMS software.  Reduced customer's server upgrade time from 4 days to 4 hours.  Removed the requirement, caused by software limitations, that hard mounted mobile computers be removed from fire trucks and brought into the IT dept for upgrades.  Reduced a mobile computer's install and upgrade times from 1 day per machine to 2 hours.          Vice President of Engineering    January 2001   to   January 2010     Company Name   －   City  ,   State      A mid-sized 3D software company for creating digital models of physical objects, including both 'off-the-shelf' and customized commercial applications.  The software is used globally in markets such as: rapid prototyping, reverse engineering, inspection, and healthcare.  Grew revenue from $0 to over $16M with a CAGR greater than 30% for 6 consecutive years.  Integral in receiving 6 term sheets of similar valuation resulting in $8M in VC funds in 2008.  Expanded company organically from 22 to 110 employees, coordinated effectively with Sales, Product Development, and Marketing teams to produce globally competitive products.  Conceived of and implemented critical changes in software architectural designs creating a partner eco- system.          Director of Software Development    January 2000   to   January 2001     Company Name   －   City  ,   State      A 30 person company using its patented lens system to project a standard 3D image into a 180 degree.  hemispherical screen using software to convert the flat image to the curved surface without distortion.          Engineering Manager/Senior Software Engineer    January 1996   to   January 2000     Company Name   －   City  ,   State      A 60 person company providing B2B and B2C real-time 3D solutions, via the Internet.          Software Engineer    January 1993   to   January 1996     Company Name   －   City  ,   State            Software Engineer    January 1989   to   January 1993     Company Name   －   City  ,   State            Education      Postgraduate courses in Cognitive and Neural Systems   :     1991    Boston University   －   City  ,   State              M. S   :   Computer Science  ,   1989    Union College   －   City  ,   State      Computer Science Masters Project: A Netless Neural Network - presented on August 16, 1989 at International Conference on\\nExpert Systems and Neural Networks - Theory & Applications        B. S   :   Computer Science  ,   1988    Union College   －   City  ,   State      Computer Science        Skills    3D, Agile, AJAX, approach, B2B, budget, C, C++, competitive, CSS, database, delivery, e-commerce, Expert Systems, funds, hiring, HTML, PHP, image, inspection, Java, JavaScript, Marketing, MongoDB, enterprise, Network, Networks, Neural, Oracle, PL/SQL, PCI, Perl, Product Development, profit, prototyping, Public safety, Python, real-time 3, receiving 6, requirement, Sales, SOAP, SQL, strategic, upgrades, upgrade, valuation, VC   \"}, {'application_id': '1302', 'content': \"         DIGITAL MERCHANDISING ANALYST       Summary    Bring six years of experience across Marketing, Merchandising, Finance and Retail to help build strong cross-functional working relationships in order to enhance the profit and reach of Digital Marketing and Social Media to consumers.      Experience      Digital Merchandising Analyst     09/2014   to   Current      Company Name   City  ,   State      Report on sales trends and observations\\n to influence merchandising decisions.   Apply search term reporting and \\nSEO ranking results to improve overall website experience through \\nnavigation, category levels and product detail pages (PDPs)  Manage seasonal campaigns and ensure they are executed across email, social, affiliate, \\nindirect retailers, and verabradley.com  Executes all omni-channel \\npromotions on verabradley.com.   Manages the Digital Product Content \\nCoordinator to oversee all onsite search, SEO execution, navigation, \\nproduct attributes and search reporting         Digital Merchandising Coordinator     08/2013   to   09/2014      Company Name   City  ,   State      Managed data spreadsheets for product \\npricing, product and sku level data/attributes, and taxonomy.   Coordinated product descriptions and \\nphotography requests for each season's launch.   Supported affiliate channels, email marketing and creative team on product recommendations and photography   Merchandised and analyzed web product performance and identified action items\\xa0 \\n          Payroll Coordinator     05/2012   to   08/2013      Company Name   City  ,   State      Managed time keeping system, worked directly with all managers on system or timecard issues\\n  Assisted and processed biweekly payrolls for various pay cycles  Trained 200 people on time keeping system and implementation of new modules\\n  Implemented 5 different systems for conversion, upgrading, and improvement\\n  Led training of managers and employees on new systems requirements and capabilities.         Education and Training        MBA: Marketing and Management   March 2017     Indiana Tech   City  ,   State      GPA: 3.8        Bachelor of Science  :   Business Management & Accounting   May 2010     Huntington University   City  ,   State      GPA: 3.35       Skills      Vendor Relations: Invodo (product videos), BloomReach \\n(Merchandising Analytics), LoopCommerce (Gift Now), Olapic (UGC), \\nCertona (Suggested Selling Tool), Amazon (Amazon A+ Pages).  Website Platforms: OCP (Site Manager), ATG (Oracle), Endeca  Professional Skills: Email Marketing, Merchandising, Retail Marketing, Product Analysis, Social Media Marketing, Management, Digital Marketing, Styling, Excel, Project Management, Campaign Management.    \\u200b    \"}, {'application_id': '2458', 'content': '         JAVA INTERN       Career Overview     Developer well-versed in structuring, developing and implementing interactive websites.  with experience in back-end programming, relational databases and performance testing SAN.             Education      May 2015    Wichita State University   －   City  ,   State      Master of Science    Computer Science    GPA:   GPA: 3.93/4     GPA: 3.92/4          May 2013    BMSCE   －   City  ,   State      Bachelor of Engineering    Computer Science    GPA:   GPA: 8.81/10     GPA: 8.81/10         Qualifications          Programming and design skills  Strong analytical skills  Optimizing and performance tuning  Experience with writing and executing test plans  Experience working in Agile Software development methodology       Capable of working simultaneously on diverse projects individually and as a team  Experience in project presentations and enthusiasm in understanding new concepts            Technical Skills       Server-side  technologies : servlets, JSP, J2EE technologies, Hibernate3.x, JPA, Spring 3.0, Struts 2.0, EJB, JMS, Design patterns, SQL, Pl/SQL   Client-side  scripting : HTML5, CSS, Java Script, AngularJS, Jquery and bootstrap   Consuming and producing SOAP and Restful web services (XML and JSON)  C, C++,Unix system programming, CUDA, Perl  Data Structures, Operating system concepts, multicore and multi-threaded programming, SAN, UNIX   Tools  : Eclipse, IOmeter , Code Warrior, vi editor, Visual Studio, Arduino, Oracle 11g, Code Blocks, iSCSI initiator, NetApp internal tools, Navicat, JConsole, JMeter, tomcat, JBOSS, Git        Technical projects       Unix system programming : Built a binary search tree using system calls in C (on Linux platform) to sort a file of records Implementation of Unix commands : tail, tee, cp and mv, in C   Parallel Apriori  algorithm proposal on Nvidia GPU Performance of Apriori algorithm with multiple threads on a single-core machine was compared against multi-threading on GPU. The newly proposed algorithm reduces the processing overhead on GPU.   Leave management system:  Designed and implemented a module to help the organization to log the attendance of employees with its biometric system. This project had html, jquery, AngularJS for front-end and Spring MVC, Hibernate running on tomcat server in the back end and Oracle 11g server as database        Work Experience      Java intern  ,   06/2013   －   Current    Company Name   －   City  ,   State      Designing and implementing Leave Management System for internal use(Spring MVC)  Receiving training in core java and J2EE technologies  Consuming and producing web services for a bank application  Creating Single Page Application in AngularJS          Test contractor (Performance and Benchmarking team)  ,   05/2014   －   05/2015    Company Name   －   City  ,   State      Executed test cases and analyze performance numbers against benchmarks   Conducted root-cause analysis for performance degradation in controller firmware builds by running continuous performance verification (PCV) tests daily.  Participated in scrum meetings  Automated using Action Word Script (AWS), batch script, Java ( Member of automation team)          Graduate Research Assistant  ,   12/2013   －   05/2014    Company Name   －   City  ,   State      Managed and maintained NIAR composites database  Created charts and updated the database  Wrote macros for doing data analysis       '}]}}}\n"
     ]
    }
   ],
   "source": [
    "result = (\n",
    "    client.query.get(\n",
    "    \"Resume\", \n",
    "    [\n",
    "        \"application_id\", \n",
    "        \"content\"\n",
    "    ]\n",
    "    )\n",
    "    .with_limit(3)\n",
    "    .do()\n",
    ")\n",
    "print(result)"
   ]
  },
  {
   "cell_type": "code",
   "execution_count": 10,
   "metadata": {},
   "outputs": [],
   "source": [
    "resume_question_prompt_template = PromptTemplate.from_template(\n",
    "    \"\"\"\n",
    "    You are a helpful Question Answering bot. \n",
    "    You are provided with 3 Resumes content and a question.\n",
    "    Answer the question based on the content of the Resumes.\n",
    "    Provide your reasoning.\n",
    "\n",
    "    Question: {question}\n",
    "    Resume1: {resume_content1} with application id {application_id1}\n",
    "    Resume2: {resume_content2} with application id {application_id2}\n",
    "    Resume3: {resume_content3} with application id {application_id3}\n",
    "\n",
    "    \"\"\"\n",
    ")\n",
    "\n",
    "\n",
    "chain = LLMChain(llm=llm, prompt=resume_question_prompt_template)"
   ]
  },
  {
   "cell_type": "code",
   "execution_count": 11,
   "metadata": {},
   "outputs": [
    {
     "name": "stdout",
     "output_type": "stream",
     "text": [
      "\n",
      "I don't know. While all three applicants have impressive resumes, there is not enough information given to determine which one has the most experience.\n"
     ]
    }
   ],
   "source": [
    "print(chain.run({\n",
    "    \"question\": \"Which applicant has the most experience?\",\n",
    "    \"resume_content1\": result['data'][\"Get\"]['Resume'][0]['content'],\n",
    "    \"resume_content2\": result['data'][\"Get\"]['Resume'][1]['content'],\n",
    "    \"resume_content3\": result['data'][\"Get\"]['Resume'][2]['content'], \n",
    "    \"application_id1\": result['data'][\"Get\"]['Resume'][0]['application_id'],\n",
    "    \"application_id2\": result['data'][\"Get\"]['Resume'][1]['application_id'],\n",
    "    \"application_id3\": result['data'][\"Get\"]['Resume'][2]['application_id']\n",
    "}))"
   ]
  },
  {
   "cell_type": "code",
   "execution_count": 45,
   "metadata": {},
   "outputs": [],
   "source": [
    "resume_question_prompt_template = PromptTemplate.from_template(\n",
    "    \"\"\"\n",
    "    You are a helpful Question Answering bot. You are provided with Resume content and a question on the content.\n",
    "    Answer the question from the content.\n",
    "    If unsure, answer with \"I don't know\".\n",
    "\n",
    "    Question: {question}\n",
    "    Resume: {resume_content}\n",
    "\n",
    "    \"\"\"\n",
    ")\n",
    "\n",
    "\n",
    "chain = LLMChain(llm=llm, prompt=resume_question_prompt_template)\n"
   ]
  },
  {
   "cell_type": "code",
   "execution_count": 46,
   "metadata": {},
   "outputs": [
    {
     "name": "stdout",
     "output_type": "stream",
     "text": [
      "\n",
      "Answer: The candidate has 17 years of experience.\n"
     ]
    }
   ],
   "source": [
    "print(chain.run({\n",
    "    \"question\": \"How many years of experience does the candidate have?\",\n",
    "    \"resume_content\": result['data'][\"Get\"]['Resume'][0]['content']\n",
    "}))"
   ]
  },
  {
   "cell_type": "code",
   "execution_count": 48,
   "metadata": {},
   "outputs": [
    {
     "name": "stdout",
     "output_type": "stream",
     "text": [
      "('\\n'\n",
      " 'Answer: The candidate is a dedicated teaching and counseling educator with '\n",
      " '17 years of experience. They have successfully taught English and Spanish to '\n",
      " 'students of all ages, implemented an IB curriculum, administered TELPAS '\n",
      " 'Online Assessments, and collaborated as a TELPAS trainer. They hold a MA in '\n",
      " 'Education, Counseling Certification, and Bilingual Endorsement, and have '\n",
      " 'skills such as counseling, leadership, workshops, goal setting, and working '\n",
      " 'with parents.')\n"
     ]
    }
   ],
   "source": [
    "pprint(chain.run({\n",
    "    \"question\": \"Summarise the skills of the candidate in 2-3 lines.\",\n",
    "    \"resume_content\": result['data'][\"Get\"]['Resume'][0]['content']\n",
    "}))"
   ]
  },
  {
   "attachments": {},
   "cell_type": "markdown",
   "metadata": {},
   "source": [
    "#### Use case - 2 But, wait I am not allowed to be querying resumes "
   ]
  },
  {
   "attachments": {},
   "cell_type": "markdown",
   "metadata": {},
   "source": [
    "##### Step1: Add vector db data source on Hasura console\n",
    "\n",
    "1. Go to postgres table and track candidate and application\n",
    "2. Add Weaviate Agent by  clicking `Manage` on Data tab under Database panel on left\n",
    "    - Click `Data connector Agents` \n",
    "    - Click `Add Agent`\n",
    "    - Name => weaviate\n",
    "    - URL => weaviate-gdc:8100\n",
    "3. Connect Weaviate db \n",
    "    - Click `Connect Database`\n",
    "    - Select weaviate from db selection\n",
    "    - Connect Existing Database\n",
    "    - Type Database name\n",
    "    - Pick apiKey and host from weaviate cluster details\n",
    "    \n"
   ]
  },
  {
   "attachments": {},
   "cell_type": "markdown",
   "metadata": {},
   "source": [
    "##### Step2: Define remote relationship"
   ]
  },
  {
   "attachments": {},
   "cell_type": "markdown",
   "metadata": {},
   "source": [
    "##### Step3: Define the permissions\n",
    "\n",
    "1. Set relationship\n",
    "    - From weaviate table -> Relationship\n",
    "    - Give name `application_relationship`\n",
    "    - From resume (application_id) to application (id)\n",
    "2. Set permission\n",
    "    - Go to Resume\n",
    "    - Create new role \"manager\" and update permissions for \"select\"\n",
    "        - {\n",
    "            \"application_relationship\": {\n",
    "                \"hiring_manager\": {\n",
    "                \"_eq\": \"x-hasura-manager-id\"\n",
    "                }\n",
    "            }\n",
    "            }\n",
    "    - Select permission for columns (Toggle all)\n",
    "3. Fetch by permission\n",
    "    - Go to API\n",
    "    - x-hasura-role : manager\n",
    "    - x-hasura-manager-id: Manager2"
   ]
  },
  {
   "attachments": {},
   "cell_type": "markdown",
   "metadata": {},
   "source": [
    "##### Step4: Issue the select Query limit 1"
   ]
  },
  {
   "attachments": {},
   "cell_type": "markdown",
   "metadata": {},
   "source": [
    "#### Use case -3 Find most relevant "
   ]
  },
  {
   "cell_type": "code",
   "execution_count": null,
   "metadata": {},
   "outputs": [],
   "source": [
    "result = (\n",
    "    client.query.get(\n",
    "    \"Resume\", \n",
    "    [\n",
    "        \"application_id\", \n",
    "        \"content\"\n",
    "    ]\n",
    "    )\n",
    "    .with_limit(1)\n",
    "    .do()\n",
    ")\n",
    "print(result)"
   ]
  },
  {
   "attachments": {},
   "cell_type": "markdown",
   "metadata": {},
   "source": [
    "1.  Resume Where -> vector -> near_text"
   ]
  },
  {
   "attachments": {},
   "cell_type": "markdown",
   "metadata": {},
   "source": [
    "- On Admin permission \n",
    "- Add new mutation"
   ]
  }
 ],
 "metadata": {
  "kernelspec": {
   "display_name": ".venv",
   "language": "python",
   "name": "python3"
  },
  "language_info": {
   "codemirror_mode": {
    "name": "ipython",
    "version": 3
   },
   "file_extension": ".py",
   "mimetype": "text/x-python",
   "name": "python",
   "nbconvert_exporter": "python",
   "pygments_lexer": "ipython3",
   "version": "3.11.3"
  },
  "orig_nbformat": 4
 },
 "nbformat": 4,
 "nbformat_minor": 2
}
